{
  "cells": [
    {
      "cell_type": "markdown",
      "metadata": {
        "id": "view-in-github",
        "colab_type": "text"
      },
      "source": [
        "<a href=\"https://colab.research.google.com/github/joezaarour/Repo1/blob/main/lab3_AV.ipynb\" target=\"_parent\"><img src=\"https://colab.research.google.com/assets/colab-badge.svg\" alt=\"Open In Colab\"/></a>"
      ]
    },
    {
      "cell_type": "markdown",
      "metadata": {
        "id": "lps8ca_gg8rX"
      },
      "source": [
        "# Financial Data Analysis with Alpha Vantage\n",
        "**Objective:** Fetch, analyze, and visualize financial data using Alpha Vantage API.\n",
        "\n",
        "Documentation : https://pypi.org/project/alpha-vantage/\n",
        "---"
      ]
    },
    {
      "cell_type": "markdown",
      "metadata": {
        "id": "O85RA87og8ra"
      },
      "source": [
        "## 0. Introduction & Setup\n",
        "\n",
        "### A. Why Alpha Vantage?\n",
        "- Free tier available\n",
        "- Covers stocks, forex, crypto, and more\n",
        "- Well-documented and reliable\n",
        "\n",
        "### B. Get Your API Key\n",
        "1. Sign up at [Alpha Vantage](https://www.alphavantage.co/support/#api-key).\n",
        "2. Copy your free API key.\n",
        "\n",
        "### C. Install Libraries\n",
        "```bash\n",
        "!pip install alpha_vantage\n",
        "```\n",
        "\n",
        "### D. Import Libraries"
      ]
    },
    {
      "cell_type": "code",
      "source": [
        "!pip install alpha_vantage"
      ],
      "metadata": {
        "id": "xSdZsGo1OW3t",
        "colab": {
          "base_uri": "https://localhost:8080/"
        },
        "outputId": "ed089f58-026c-4498-e1d0-3f33a1d9db98"
      },
      "execution_count": null,
      "outputs": [
        {
          "output_type": "stream",
          "name": "stdout",
          "text": [
            "Collecting alpha_vantage\n",
            "  Downloading alpha_vantage-3.0.0-py3-none-any.whl.metadata (12 kB)\n",
            "Requirement already satisfied: aiohttp in /usr/local/lib/python3.12/dist-packages (from alpha_vantage) (3.12.15)\n",
            "Requirement already satisfied: requests in /usr/local/lib/python3.12/dist-packages (from alpha_vantage) (2.32.4)\n",
            "Requirement already satisfied: aiohappyeyeballs>=2.5.0 in /usr/local/lib/python3.12/dist-packages (from aiohttp->alpha_vantage) (2.6.1)\n",
            "Requirement already satisfied: aiosignal>=1.4.0 in /usr/local/lib/python3.12/dist-packages (from aiohttp->alpha_vantage) (1.4.0)\n",
            "Requirement already satisfied: attrs>=17.3.0 in /usr/local/lib/python3.12/dist-packages (from aiohttp->alpha_vantage) (25.3.0)\n",
            "Requirement already satisfied: frozenlist>=1.1.1 in /usr/local/lib/python3.12/dist-packages (from aiohttp->alpha_vantage) (1.7.0)\n",
            "Requirement already satisfied: multidict<7.0,>=4.5 in /usr/local/lib/python3.12/dist-packages (from aiohttp->alpha_vantage) (6.6.4)\n",
            "Requirement already satisfied: propcache>=0.2.0 in /usr/local/lib/python3.12/dist-packages (from aiohttp->alpha_vantage) (0.3.2)\n",
            "Requirement already satisfied: yarl<2.0,>=1.17.0 in /usr/local/lib/python3.12/dist-packages (from aiohttp->alpha_vantage) (1.20.1)\n",
            "Requirement already satisfied: charset_normalizer<4,>=2 in /usr/local/lib/python3.12/dist-packages (from requests->alpha_vantage) (3.4.3)\n",
            "Requirement already satisfied: idna<4,>=2.5 in /usr/local/lib/python3.12/dist-packages (from requests->alpha_vantage) (3.10)\n",
            "Requirement already satisfied: urllib3<3,>=1.21.1 in /usr/local/lib/python3.12/dist-packages (from requests->alpha_vantage) (2.5.0)\n",
            "Requirement already satisfied: certifi>=2017.4.17 in /usr/local/lib/python3.12/dist-packages (from requests->alpha_vantage) (2025.8.3)\n",
            "Requirement already satisfied: typing-extensions>=4.2 in /usr/local/lib/python3.12/dist-packages (from aiosignal>=1.4.0->aiohttp->alpha_vantage) (4.15.0)\n",
            "Downloading alpha_vantage-3.0.0-py3-none-any.whl (35 kB)\n",
            "Installing collected packages: alpha_vantage\n",
            "Successfully installed alpha_vantage-3.0.0\n"
          ]
        }
      ]
    },
    {
      "cell_type": "code",
      "execution_count": null,
      "metadata": {
        "id": "8lQbV95Lg8rc"
      },
      "outputs": [],
      "source": [
        "from alpha_vantage.timeseries import TimeSeries\n",
        "from alpha_vantage.foreignexchange import ForeignExchange\n",
        "from alpha_vantage.cryptocurrencies import CryptoCurrencies\n",
        "from alpha_vantage.techindicators import TechIndicators\n",
        "from alpha_vantage.fundamentaldata import FundamentalData\n",
        "import pandas as pd\n",
        "import matplotlib.pyplot as plt\n",
        "import seaborn as sns\n",
        "import numpy as np\n",
        "from scipy.stats import linregress"
      ]
    },
    {
      "cell_type": "markdown",
      "metadata": {
        "id": "f_I5wb-lg8re"
      },
      "source": [
        "---"
      ]
    },
    {
      "cell_type": "markdown",
      "metadata": {
        "id": "4HJXlaVjg8rf"
      },
      "source": [
        "## 1. Basic Data Fetching\n",
        "\n",
        "---\n",
        "\n",
        "\n",
        "\n",
        "### A. Fetch Daily Stock Data"
      ]
    },
    {
      "cell_type": "code",
      "execution_count": null,
      "metadata": {
        "id": "mRRCwHnig8rg"
      },
      "outputs": [],
      "source": [
        "# Replace with your API key\n",
        "api_key = 'YOUR_API_KEY'\n",
        "ts = TimeSeries(key=api_key, output_format='pandas')\n",
        "aapl_daily, meta_data = ts.get_daily('AAPL')\n",
        "aapl_daily = aapl_daily.rename(columns={'1. open': 'Open', '2. high': 'High', '3. low': 'Low', '4. close': 'Close', '5. volume': 'Volume'})\n",
        "aapl_daily = aapl_daily.sort_index(ascending=True)\n",
        "aapl_daily.head()"
      ]
    },
    {
      "cell_type": "markdown",
      "source": [
        "# Exercise:\n",
        "Write a function that takes a dataframe as parameter and automatically renames the columns"
      ],
      "metadata": {
        "id": "n6sm-Tkohgud"
      }
    },
    {
      "cell_type": "markdown",
      "metadata": {
        "id": "tlZIAbBJg8rg"
      },
      "source": [
        "### B. Basic Analysis & Visualization\n",
        "* Plot the closing prices\n",
        "* Calculate and plot the moving averages for 20 and 50 dates windows\n",
        "  * hint: look at the 'rolling' and 'mean' functions in pandas\n",
        "* Calculate and plot daily returns"
      ]
    },
    {
      "cell_type": "code",
      "source": [
        "# Plot closing price"
      ],
      "metadata": {
        "id": "zT7wwue4ml5I"
      },
      "execution_count": null,
      "outputs": []
    },
    {
      "cell_type": "code",
      "source": [
        "# Calculate Moving averages"
      ],
      "metadata": {
        "id": "IdDgkfGLmo3Y"
      },
      "execution_count": null,
      "outputs": []
    },
    {
      "cell_type": "code",
      "execution_count": null,
      "metadata": {
        "id": "ey3hpglrg8rk"
      },
      "outputs": [],
      "source": [
        "# Calculate daily returns\n"
      ]
    },
    {
      "cell_type": "markdown",
      "metadata": {
        "id": "8Tx1w5VKg8rk"
      },
      "source": [
        "---"
      ]
    },
    {
      "cell_type": "markdown",
      "metadata": {
        "id": "Y5Mi12M5g8rk"
      },
      "source": [
        "## 2. Advanced Data Types\n",
        "\n",
        "### A. Fetch Forex Data\n",
        "* Get daily currency exchanges daily from EUR to USD\n",
        "  * Use your function to format the dataframe\n",
        "  * Plot the result"
      ]
    },
    {
      "cell_type": "code",
      "execution_count": null,
      "metadata": {
        "id": "6mnnOindg8rk"
      },
      "outputs": [],
      "source": [
        "# Fetch data\n"
      ]
    },
    {
      "cell_type": "code",
      "execution_count": null,
      "metadata": {
        "id": "ri6qMTtog8rm"
      },
      "outputs": [],
      "source": [
        "# Plot EUR/USD\n"
      ]
    },
    {
      "cell_type": "markdown",
      "metadata": {
        "id": "cknIzIsVg8rm"
      },
      "source": [
        "### B. Fetch Crypto Data\n",
        "* Retrieve Bitcoin digital currence ('BTC') in the 'USD' market\n",
        "* Plot the closing prices"
      ]
    },
    {
      "cell_type": "code",
      "execution_count": null,
      "metadata": {
        "id": "yyyoCJTSg8rn"
      },
      "outputs": [],
      "source": [
        "# Fetch BTC data"
      ]
    },
    {
      "cell_type": "code",
      "execution_count": null,
      "metadata": {
        "id": "e6vSERLBg8rn"
      },
      "outputs": [],
      "source": [
        "# Plot BTC/USD\n"
      ]
    },
    {
      "cell_type": "markdown",
      "metadata": {
        "id": "R7818Ef_g8rp"
      },
      "source": [
        "### C. Fetch Technical Indicators (SMA, RSI, MACD)\n",
        "* Retrieve the relative strength index (RSI) for Apple ('AAPL')\n",
        "* Plot the result"
      ]
    },
    {
      "cell_type": "code",
      "execution_count": null,
      "metadata": {
        "id": "jMAERiyig8rp"
      },
      "outputs": [],
      "source": [
        "# Fetch RSI"
      ]
    },
    {
      "cell_type": "code",
      "execution_count": null,
      "metadata": {
        "id": "OReNwjKPg8rp"
      },
      "outputs": [],
      "source": [
        "# Plot RSI\n"
      ]
    },
    {
      "cell_type": "markdown",
      "metadata": {
        "id": "tkFEAmFug8rp"
      },
      "source": [
        "---"
      ]
    },
    {
      "cell_type": "markdown",
      "metadata": {
        "id": "AKosm8Q4g8rq"
      },
      "source": [
        "## 3. Data Analysis & Visualization\n",
        "\n",
        "### A. Correlation Analysis\n",
        "* Retrieve some more daily stock data for comparison\n",
        "  * Compute daily return\n",
        "  * merge the two 'Daily return' columns from your two dataframes using pd.merge (relevant parameters: left_index=True, right_index=True, suffixes=('_sufx1', '_sufx2')\n",
        "  * Drop all NaN rows and display result\n",
        "  * Compute correlation using corr() on the merged df\n",
        "  * Visualize the correlation using seaborn"
      ]
    },
    {
      "cell_type": "code",
      "execution_count": null,
      "metadata": {
        "id": "MQgci1Ggg8rq"
      },
      "outputs": [],
      "source": [
        "# Fetch  data for comparison\n",
        "\n",
        "# Merge daily returns\n"
      ]
    },
    {
      "cell_type": "code",
      "execution_count": null,
      "metadata": {
        "id": "69R3qk3-g8rq"
      },
      "outputs": [],
      "source": [
        "# Calculate correlation\n"
      ]
    },
    {
      "cell_type": "code",
      "execution_count": null,
      "metadata": {
        "id": "ZGkeNiVMg8rr"
      },
      "outputs": [],
      "source": [
        "# Plot scatter and regression line\n"
      ]
    }
  ],
  "metadata": {
    "kernelspec": {
      "display_name": "Python 3",
      "language": "python",
      "name": "python3"
    },
    "language_info": {
      "codemirror_mode": {
        "name": "ipython",
        "version": 3
      },
      "file_extension": ".py",
      "mimetype": "text/x-python",
      "name": "python",
      "nbconvert_exporter": "python",
      "pygments_lexer": "ipython3",
      "version": "3.8.10"
    },
    "colab": {
      "provenance": [],
      "include_colab_link": true
    }
  },
  "nbformat": 4,
  "nbformat_minor": 0
}