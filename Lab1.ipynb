{
  "nbformat": 4,
  "nbformat_minor": 0,
  "metadata": {
    "colab": {
      "provenance": [],
      "authorship_tag": "ABX9TyOceQvOCZVH0ruNwoQB5dRA",
      "include_colab_link": true
    },
    "kernelspec": {
      "name": "python3",
      "display_name": "Python 3"
    },
    "language_info": {
      "name": "python"
    }
  },
  "cells": [
    {
      "cell_type": "markdown",
      "metadata": {
        "id": "view-in-github",
        "colab_type": "text"
      },
      "source": [
        "<a href=\"https://colab.research.google.com/github/joezaarour/Repo1/blob/main/Lab1.ipynb\" target=\"_parent\"><img src=\"https://colab.research.google.com/assets/colab-badge.svg\" alt=\"Open In Colab\"/></a>"
      ]
    },
    {
      "cell_type": "markdown",
      "source": [
        "Importing Libraries"
      ],
      "metadata": {
        "id": "Kg5XnG1ilg27"
      }
    },
    {
      "cell_type": "code",
      "source": [
        "import numpy as np"
      ],
      "metadata": {
        "id": "ECf0Uuh7lihB"
      },
      "execution_count": 2,
      "outputs": []
    },
    {
      "cell_type": "markdown",
      "source": [
        "Exercise 1.\n",
        "Write a function that determines if a year (given as parameter) is a leap year or not.\n",
        "The function should return a Boolean value.\n",
        "A year is a leap year if it is divisible by 4, unless it is also divisible by 100, with the exception that a year divisible by 400 is a leap year.\n"
      ],
      "metadata": {
        "id": "lgYjAfWVQOBG"
      }
    },
    {
      "cell_type": "code",
      "source": [
        "def is_leap_year(year):\n",
        "    if (year % 4 == 0 and year % 100 != 0) or (year % 400 == 0):\n",
        "        return True\n",
        "    else:\n",
        "        return False\n",
        "print(is_leap_year(2024))\n",
        "print(is_leap_year(1900))\n",
        "print(is_leap_year(2000))\n",
        "print(is_leap_year(2023))\n",
        "\n"
      ],
      "metadata": {
        "colab": {
          "base_uri": "https://localhost:8080/"
        },
        "id": "7N69vcEmP7PX",
        "outputId": "a1f27d0f-0472-4cc4-c22c-9e122252f45d"
      },
      "execution_count": 1,
      "outputs": [
        {
          "output_type": "stream",
          "name": "stdout",
          "text": [
            "True\n",
            "False\n",
            "True\n",
            "False\n"
          ]
        }
      ]
    },
    {
      "cell_type": "markdown",
      "source": [
        "Exercise 2.\n",
        "Write a function that takes two lists of integers as parameters, representing intervals.\n",
        "The function must check that each list contains exactly 2 elements, and computes the union of the two intervals."
      ],
      "metadata": {
        "id": "PzdX7WY0RRui"
      }
    },
    {
      "cell_type": "code",
      "source": [
        "def union_intervals(interval1, interval2):\n",
        "\n",
        "    if len(interval1) != 2 or len(interval2) != 2:\n",
        "        return \"Error: each interval must contain exactly 2 elements.\"\n",
        "\n",
        "    start = min(interval1[0], interval2[0])\n",
        "    end = max(interval1[1], interval2[1])\n",
        "\n",
        "    return [start, end]\n",
        "\n",
        "\n",
        "interval1 = [1, 5]\n",
        "interval2 = [3, 7]\n",
        "result = union_intervals(interval1, interval2)\n",
        "print(result)"
      ],
      "metadata": {
        "colab": {
          "base_uri": "https://localhost:8080/"
        },
        "id": "NgF6e8g0RMfK",
        "outputId": "4e0825d5-c28d-4552-eb03-ef119a767df1"
      },
      "execution_count": 3,
      "outputs": [
        {
          "output_type": "stream",
          "name": "stdout",
          "text": [
            "[1, 7]\n"
          ]
        }
      ]
    },
    {
      "cell_type": "markdown",
      "source": [
        "Exercise 3.\n",
        "Write a function that determines if a number given as parameter is a perfect number.\n",
        "A perfect number is a positive integer equal to the sum of its positive proper divisors (divisors excluding the number itself)."
      ],
      "metadata": {
        "id": "FEotoIvZRXBd"
      }
    },
    {
      "cell_type": "code",
      "source": [
        "def is_perfect_number(n):\n",
        "    if n <= 0:\n",
        "        return False  # Perfect numbers are positive integers only\n",
        "\n",
        "    divisors_sum = 0\n",
        "    for i in range(1, n):\n",
        "        if n % i == 0:\n",
        "            divisors_sum += i\n",
        "\n",
        "    return divisors_sum == n\n",
        "print(is_perfect_number(6))    # True  (1 + 2 + 3 = 6)\n",
        "print(is_perfect_number(28))   # True  (1 + 2 + 4 + 7 + 14 = 28)\n",
        "print(is_perfect_number(12))   # False\n"
      ],
      "metadata": {
        "colab": {
          "base_uri": "https://localhost:8080/"
        },
        "id": "RVGUj539RYkt",
        "outputId": "e1ef2400-a3de-4f42-b7c0-7e24b5eb6422"
      },
      "execution_count": 4,
      "outputs": [
        {
          "output_type": "stream",
          "name": "stdout",
          "text": [
            "True\n",
            "True\n",
            "False\n"
          ]
        }
      ]
    },
    {
      "cell_type": "markdown",
      "source": [
        "Exercise 4.\n",
        "Write a function that returns the min and max values of a list given as parameter."
      ],
      "metadata": {
        "id": "W8UDgoxXSS2i"
      }
    },
    {
      "cell_type": "code",
      "source": [
        "def min_max(values):\n",
        "    if not values:  # check if the list is empty\n",
        "        return \"Error: the list is empty.\"\n",
        "\n",
        "    minimum = min(values)\n",
        "    maximum = max(values)\n",
        "\n",
        "    return minimum, maximum\n",
        "\n",
        "print(min_max([3, 7, 2, 9, 5]))   # (2, 9)\n",
        "print(min_max([-4, 0, 10, 6]))    # (-4, 10)\n",
        "print(min_max([]))                # \"Error: the list is empty.\"\n"
      ],
      "metadata": {
        "colab": {
          "base_uri": "https://localhost:8080/"
        },
        "id": "2TFmU_roST2D",
        "outputId": "3acdc554-8fc6-4493-a28c-cc0a7d229632"
      },
      "execution_count": 9,
      "outputs": [
        {
          "output_type": "stream",
          "name": "stdout",
          "text": [
            "(2, 9)\n",
            "(-4, 10)\n",
            "Error: the list is empty.\n"
          ]
        }
      ]
    },
    {
      "cell_type": "markdown",
      "source": [
        "Exercise 5.\n",
        "Write a function that checks if a list given as parameter is a Fibonacci sequence"
      ],
      "metadata": {
        "id": "2ZVLqx2uT-y9"
      }
    },
    {
      "cell_type": "code",
      "source": [
        "def is_fibonacci_sequence(lst):\n",
        "    # A Fibonacci sequence must have at least 3 numbers\n",
        "    if len(lst) < 3:\n",
        "        return False\n",
        "\n",
        "    # Check if each number (from the 3rd onward) is the sum of the previous two\n",
        "    for i in range(2, len(lst)):\n",
        "        if lst[i] != lst[i-1] + lst[i-2]:\n",
        "            return False\n",
        "\n",
        "    return True\n",
        "print(is_fibonacci_sequence([0, 1, 1, 2, 3, 5, 8]))   # True\n",
        "print(is_fibonacci_sequence([2, 4, 6, 10]))           # False\n",
        "print(is_fibonacci_sequence([1, 1, 2, 3, 5, 9]))      # False"
      ],
      "metadata": {
        "colab": {
          "base_uri": "https://localhost:8080/"
        },
        "id": "BQGVfGb8T7Yw",
        "outputId": "eed7e615-297d-43cb-c1ee-6ed392bf55dc"
      },
      "execution_count": 10,
      "outputs": [
        {
          "output_type": "stream",
          "name": "stdout",
          "text": [
            "True\n",
            "True\n",
            "False\n"
          ]
        }
      ]
    },
    {
      "cell_type": "markdown",
      "source": [
        "Exercise 6.\n",
        "Write a function that takes as input a two-dimensional list and computes the average for each row in the list.\n",
        "The function should return a list containing the average value of each row."
      ],
      "metadata": {
        "id": "wLwRtULUU7HO"
      }
    },
    {
      "cell_type": "code",
      "source": [
        "def row_averages(matrix):\n",
        "    if not matrix:  # check if the list is empty\n",
        "        return []\n",
        "\n",
        "    averages = []\n",
        "    for row in matrix:\n",
        "        if len(row) == 0:\n",
        "            averages.append(0)  # avoid division by zero\n",
        "        else:\n",
        "            avg = sum(row) / len(row)\n",
        "            averages.append(avg)\n",
        "\n",
        "    return averages\n",
        "data = [\n",
        "    [10, 20, 30],\n",
        "    [5, 15, 25, 35],\n",
        "    [8, 12]\n",
        "]\n",
        "\n",
        "print(row_averages(data))  # [20.0, 20.0, 10.0]\n"
      ],
      "metadata": {
        "colab": {
          "base_uri": "https://localhost:8080/"
        },
        "id": "yLb3TORlU7nk",
        "outputId": "000a99fc-bb21-418e-b572-516f26b0a8f7"
      },
      "execution_count": 11,
      "outputs": [
        {
          "output_type": "stream",
          "name": "stdout",
          "text": [
            "[20.0, 20.0, 10.0]\n"
          ]
        }
      ]
    }
  ]
}