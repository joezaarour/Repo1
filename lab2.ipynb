{
  "cells": [
    {
      "cell_type": "markdown",
      "metadata": {
        "id": "view-in-github",
        "colab_type": "text"
      },
      "source": [
        "<a href=\"https://colab.research.google.com/github/joezaarour/Repo1/blob/main/lab2.ipynb\" target=\"_parent\"><img src=\"https://colab.research.google.com/assets/colab-badge.svg\" alt=\"Open In Colab\"/></a>"
      ]
    },
    {
      "cell_type": "markdown",
      "metadata": {
        "id": "yuXO7Jdb_Khi"
      },
      "source": [
        "# Import libraries"
      ]
    },
    {
      "cell_type": "code",
      "source": [
        "# install mplfinance\n",
        "!pip install mplfinance"
      ],
      "metadata": {
        "id": "uByMVGy84Hf9"
      },
      "execution_count": null,
      "outputs": []
    },
    {
      "cell_type": "code",
      "execution_count": null,
      "metadata": {
        "id": "M0MLCX6Z_Khl"
      },
      "outputs": [],
      "source": [
        "import pandas as pd\n",
        "import matplotlib.pyplot as plt\n",
        "import seaborn as sns\n",
        "import mplfinance as mpl"
      ]
    },
    {
      "cell_type": "markdown",
      "metadata": {
        "id": "A5km2G3G_Khn"
      },
      "source": [
        "# Check files on disk\n",
        "* Go to https://www.kaggle.com/datasets/adhoppin/financial-data?resource=download and download the data.\n",
        "* Extract the data in your folder, or updload it on Google Colab.\n",
        "    * You can directly upload a 'zip' file on Google Drive.\n",
        "    * Then, you'll have to mount google drive, find the correct folder and unzip the file\n",
        "    * You can achieve this by  adapting the following code"
      ]
    },
    {
      "cell_type": "code",
      "execution_count": 1,
      "metadata": {
        "id": "Z5rOSr0Z_Khp",
        "colab": {
          "base_uri": "https://localhost:8080/",
          "height": 0
        },
        "outputId": "6a5805ac-9dc3-4041-8070-d43aebf1683e"
      },
      "outputs": [
        {
          "output_type": "stream",
          "name": "stdout",
          "text": [
            "Mounted at /content/drive\n",
            "drive  sample_data\n"
          ]
        }
      ],
      "source": [
        "# Mount your google drive\n",
        "from google.colab import drive\n",
        "drive.mount('/content/drive')\n",
        "!ls\n"
      ]
    },
    {
      "cell_type": "code",
      "source": [
        "!unzip drive/MyDrive/Python\\ for\\ Finance/financial_data.zip"
      ],
      "metadata": {
        "id": "Uq2N2aJbXACM",
        "colab": {
          "base_uri": "https://localhost:8080/"
        },
        "outputId": "855d71f1-4616-4038-ea7f-7d214992fce8"
      },
      "execution_count": 6,
      "outputs": [
        {
          "output_type": "stream",
          "name": "stdout",
          "text": [
            "Archive:  drive/MyDrive/Python for Finance/financial_data.zip\n",
            "  inflating: Financial Data/cryptocurrencies/ADA-USD.csv  \n",
            "  inflating: Financial Data/cryptocurrencies/BCH-USD.csv  \n",
            "  inflating: Financial Data/cryptocurrencies/BTC-USD.csv  \n",
            "  inflating: Financial Data/cryptocurrencies/ETH-USD.csv  \n",
            "  inflating: Financial Data/cryptocurrencies/LTC-USD.csv  \n",
            "  inflating: Financial Data/cryptocurrencies/XRP-USD.csv  \n",
            "  inflating: Financial Data/currencies/AUD.csv  \n",
            "  inflating: Financial Data/currencies/CAD.csv  \n",
            "  inflating: Financial Data/currencies/EUR.csv  \n",
            "  inflating: Financial Data/currencies/GBP.csv  \n",
            "  inflating: Financial Data/currencies/INR.csv  \n",
            "  inflating: Financial Data/currencies/JPY.csv  \n",
            "  inflating: Financial Data/stocks/AAPL.csv  \n",
            "  inflating: Financial Data/stocks/ADBE.csv  \n",
            "  inflating: Financial Data/stocks/AMD.csv  \n",
            "  inflating: Financial Data/stocks/AMGN.csv  \n",
            "  inflating: Financial Data/stocks/AMZN.csv  \n",
            "  inflating: Financial Data/stocks/CMCSA.csv  \n",
            "  inflating: Financial Data/stocks/CSCO.csv  \n",
            "  inflating: Financial Data/stocks/GILD.csv  \n",
            "  inflating: Financial Data/stocks/GOOG.csv  \n",
            "  inflating: Financial Data/stocks/GOOGL.csv  \n",
            "  inflating: Financial Data/stocks/INTC.csv  \n",
            "  inflating: Financial Data/stocks/META.csv  \n",
            "  inflating: Financial Data/stocks/MSFT.csv  \n",
            "  inflating: Financial Data/stocks/NFLX.csv  \n",
            "  inflating: Financial Data/stocks/NVDA.csv  \n",
            "  inflating: Financial Data/stocks/PEP.csv  \n",
            "  inflating: Financial Data/stocks/PYPL.csv  \n",
            "  inflating: Financial Data/stocks/QCOM.csv  \n",
            "  inflating: Financial Data/stocks/SBUX.csv  \n",
            "  inflating: Financial Data/stocks/TSLA.csv  \n"
          ]
        }
      ]
    },
    {
      "cell_type": "code",
      "source": [
        "import os\n",
        "dirpath='./Financial Data/stocks'\n",
        "for dirname, _, filenames in os.walk(dirpath): # for each directory in current folder (./)+path\n",
        "    for filename in filenames: # for each file in a directory\n",
        "        print(os.path.join(dirname, filename)) # print the directory/filename"
      ],
      "metadata": {
        "id": "69r61xKb44_r",
        "colab": {
          "base_uri": "https://localhost:8080/"
        },
        "outputId": "30efcc2e-a340-47a9-8f03-e4a78a87b37f"
      },
      "execution_count": 7,
      "outputs": [
        {
          "output_type": "stream",
          "name": "stdout",
          "text": [
            "./Financial Data/stocks/SBUX.csv\n",
            "./Financial Data/stocks/MSFT.csv\n",
            "./Financial Data/stocks/META.csv\n",
            "./Financial Data/stocks/AMZN.csv\n",
            "./Financial Data/stocks/GOOGL.csv\n",
            "./Financial Data/stocks/QCOM.csv\n",
            "./Financial Data/stocks/PYPL.csv\n",
            "./Financial Data/stocks/GILD.csv\n",
            "./Financial Data/stocks/CSCO.csv\n",
            "./Financial Data/stocks/TSLA.csv\n",
            "./Financial Data/stocks/PEP.csv\n",
            "./Financial Data/stocks/AAPL.csv\n",
            "./Financial Data/stocks/ADBE.csv\n",
            "./Financial Data/stocks/GOOG.csv\n",
            "./Financial Data/stocks/NVDA.csv\n",
            "./Financial Data/stocks/AMGN.csv\n",
            "./Financial Data/stocks/NFLX.csv\n",
            "./Financial Data/stocks/INTC.csv\n",
            "./Financial Data/stocks/AMD.csv\n",
            "./Financial Data/stocks/CMCSA.csv\n"
          ]
        }
      ]
    },
    {
      "cell_type": "markdown",
      "metadata": {
        "id": "UNu7vJWR_Khq"
      },
      "source": [
        "# Open a file as a pandas dataframe\n",
        "\n",
        "Pandas is very well documented, check here for a complete User Guide :\n",
        "\n",
        "https://pandas.pydata.org/docs/user_guide/index.html\n",
        "\n",
        "* Choose one stock file and open it as a DataFrame using the method pd.read_csv(filepath)"
      ]
    },
    {
      "cell_type": "code",
      "execution_count": 9,
      "metadata": {
        "id": "XBqOzuwK_Khr",
        "colab": {
          "base_uri": "https://localhost:8080/"
        },
        "outputId": "e4cd2005-fa42-4d70-eea4-c0eead29b02e"
      },
      "outputs": [
        {
          "output_type": "stream",
          "name": "stdout",
          "text": [
            "         Date      Open      High       Low     Close     Volume Symbol  \\\n",
            "0  2002-12-31  0.250000  0.256429  0.249107  0.255893  200726400   AAPL   \n",
            "1  2003-01-02  0.256429  0.266429  0.256250  0.264286  181428800   AAPL   \n",
            "2  2003-01-03  0.264286  0.266607  0.260536  0.266071  147453600   AAPL   \n",
            "3  2003-01-06  0.268393  0.274643  0.265714  0.266071  390532800   AAPL   \n",
            "4  2003-01-07  0.264107  0.267857  0.258393  0.265179  342344800   AAPL   \n",
            "\n",
            "   YTD Gains  \n",
            "0   0.000000  \n",
            "1   0.032799  \n",
            "2   0.039774  \n",
            "3   0.039774  \n",
            "4   0.036289  \n"
          ]
        }
      ],
      "source": [
        "import pandas as pd\n",
        "\n",
        "filepath = './Financial Data/stocks/AAPL.csv'\n",
        "\n",
        "df = pd.read_csv(filepath)\n",
        "\n",
        "print(df.head())"
      ]
    },
    {
      "cell_type": "markdown",
      "metadata": {
        "id": "qrKacpU1_Khr"
      },
      "source": [
        "# Set up the Dataframe\n",
        "\n",
        "* convert values in the 'Date' column using pd.to_datetime(dfcolumn)\n",
        "* set the date as index using df.set_index(column, inplace = True)\n",
        "* check the first few lines of the dataframe using head()\n",
        "* what happens if you type 'print(df[(df.index.day==1) & (df.index.month==9)]). Why ?"
      ]
    },
    {
      "cell_type": "code",
      "source": [
        "import pandas as pd\n",
        "\n",
        "df = pd.read_csv(filepath)\n",
        "\n",
        "#1\n",
        "df[\"Date\"] = pd.to_datetime(df[\"Date\"])\n",
        "\n",
        "#2\n",
        "df.set_index(\"Date\", inplace=True)\n",
        "\n",
        "\n",
        "\n",
        "\n",
        "\n",
        "\n"
      ],
      "metadata": {
        "id": "qYOW9q4uwi4A"
      },
      "execution_count": 16,
      "outputs": []
    },
    {
      "cell_type": "code",
      "source": [
        "#3\n",
        "df.head()"
      ],
      "metadata": {
        "id": "2SoZnPsMbsb7",
        "outputId": "912d7539-f72b-46f1-a436-2311fca4c827",
        "colab": {
          "base_uri": "https://localhost:8080/",
          "height": 237
        }
      },
      "execution_count": 14,
      "outputs": [
        {
          "output_type": "execute_result",
          "data": {
            "text/plain": [
              "                Open      High       Low     Close     Volume Symbol  \\\n",
              "Date                                                                   \n",
              "2002-12-31  0.250000  0.256429  0.249107  0.255893  200726400   AAPL   \n",
              "2003-01-02  0.256429  0.266429  0.256250  0.264286  181428800   AAPL   \n",
              "2003-01-03  0.264286  0.266607  0.260536  0.266071  147453600   AAPL   \n",
              "2003-01-06  0.268393  0.274643  0.265714  0.266071  390532800   AAPL   \n",
              "2003-01-07  0.264107  0.267857  0.258393  0.265179  342344800   AAPL   \n",
              "\n",
              "            YTD Gains  \n",
              "Date                   \n",
              "2002-12-31   0.000000  \n",
              "2003-01-02   0.032799  \n",
              "2003-01-03   0.039774  \n",
              "2003-01-06   0.039774  \n",
              "2003-01-07   0.036289  "
            ],
            "text/html": [
              "\n",
              "  <div id=\"df-91caec7b-e59a-4db4-b0ad-e3fc23e1be77\" class=\"colab-df-container\">\n",
              "    <div>\n",
              "<style scoped>\n",
              "    .dataframe tbody tr th:only-of-type {\n",
              "        vertical-align: middle;\n",
              "    }\n",
              "\n",
              "    .dataframe tbody tr th {\n",
              "        vertical-align: top;\n",
              "    }\n",
              "\n",
              "    .dataframe thead th {\n",
              "        text-align: right;\n",
              "    }\n",
              "</style>\n",
              "<table border=\"1\" class=\"dataframe\">\n",
              "  <thead>\n",
              "    <tr style=\"text-align: right;\">\n",
              "      <th></th>\n",
              "      <th>Open</th>\n",
              "      <th>High</th>\n",
              "      <th>Low</th>\n",
              "      <th>Close</th>\n",
              "      <th>Volume</th>\n",
              "      <th>Symbol</th>\n",
              "      <th>YTD Gains</th>\n",
              "    </tr>\n",
              "    <tr>\n",
              "      <th>Date</th>\n",
              "      <th></th>\n",
              "      <th></th>\n",
              "      <th></th>\n",
              "      <th></th>\n",
              "      <th></th>\n",
              "      <th></th>\n",
              "      <th></th>\n",
              "    </tr>\n",
              "  </thead>\n",
              "  <tbody>\n",
              "    <tr>\n",
              "      <th>2002-12-31</th>\n",
              "      <td>0.250000</td>\n",
              "      <td>0.256429</td>\n",
              "      <td>0.249107</td>\n",
              "      <td>0.255893</td>\n",
              "      <td>200726400</td>\n",
              "      <td>AAPL</td>\n",
              "      <td>0.000000</td>\n",
              "    </tr>\n",
              "    <tr>\n",
              "      <th>2003-01-02</th>\n",
              "      <td>0.256429</td>\n",
              "      <td>0.266429</td>\n",
              "      <td>0.256250</td>\n",
              "      <td>0.264286</td>\n",
              "      <td>181428800</td>\n",
              "      <td>AAPL</td>\n",
              "      <td>0.032799</td>\n",
              "    </tr>\n",
              "    <tr>\n",
              "      <th>2003-01-03</th>\n",
              "      <td>0.264286</td>\n",
              "      <td>0.266607</td>\n",
              "      <td>0.260536</td>\n",
              "      <td>0.266071</td>\n",
              "      <td>147453600</td>\n",
              "      <td>AAPL</td>\n",
              "      <td>0.039774</td>\n",
              "    </tr>\n",
              "    <tr>\n",
              "      <th>2003-01-06</th>\n",
              "      <td>0.268393</td>\n",
              "      <td>0.274643</td>\n",
              "      <td>0.265714</td>\n",
              "      <td>0.266071</td>\n",
              "      <td>390532800</td>\n",
              "      <td>AAPL</td>\n",
              "      <td>0.039774</td>\n",
              "    </tr>\n",
              "    <tr>\n",
              "      <th>2003-01-07</th>\n",
              "      <td>0.264107</td>\n",
              "      <td>0.267857</td>\n",
              "      <td>0.258393</td>\n",
              "      <td>0.265179</td>\n",
              "      <td>342344800</td>\n",
              "      <td>AAPL</td>\n",
              "      <td>0.036289</td>\n",
              "    </tr>\n",
              "  </tbody>\n",
              "</table>\n",
              "</div>\n",
              "    <div class=\"colab-df-buttons\">\n",
              "\n",
              "  <div class=\"colab-df-container\">\n",
              "    <button class=\"colab-df-convert\" onclick=\"convertToInteractive('df-91caec7b-e59a-4db4-b0ad-e3fc23e1be77')\"\n",
              "            title=\"Convert this dataframe to an interactive table.\"\n",
              "            style=\"display:none;\">\n",
              "\n",
              "  <svg xmlns=\"http://www.w3.org/2000/svg\" height=\"24px\" viewBox=\"0 -960 960 960\">\n",
              "    <path d=\"M120-120v-720h720v720H120Zm60-500h600v-160H180v160Zm220 220h160v-160H400v160Zm0 220h160v-160H400v160ZM180-400h160v-160H180v160Zm440 0h160v-160H620v160ZM180-180h160v-160H180v160Zm440 0h160v-160H620v160Z\"/>\n",
              "  </svg>\n",
              "    </button>\n",
              "\n",
              "  <style>\n",
              "    .colab-df-container {\n",
              "      display:flex;\n",
              "      gap: 12px;\n",
              "    }\n",
              "\n",
              "    .colab-df-convert {\n",
              "      background-color: #E8F0FE;\n",
              "      border: none;\n",
              "      border-radius: 50%;\n",
              "      cursor: pointer;\n",
              "      display: none;\n",
              "      fill: #1967D2;\n",
              "      height: 32px;\n",
              "      padding: 0 0 0 0;\n",
              "      width: 32px;\n",
              "    }\n",
              "\n",
              "    .colab-df-convert:hover {\n",
              "      background-color: #E2EBFA;\n",
              "      box-shadow: 0px 1px 2px rgba(60, 64, 67, 0.3), 0px 1px 3px 1px rgba(60, 64, 67, 0.15);\n",
              "      fill: #174EA6;\n",
              "    }\n",
              "\n",
              "    .colab-df-buttons div {\n",
              "      margin-bottom: 4px;\n",
              "    }\n",
              "\n",
              "    [theme=dark] .colab-df-convert {\n",
              "      background-color: #3B4455;\n",
              "      fill: #D2E3FC;\n",
              "    }\n",
              "\n",
              "    [theme=dark] .colab-df-convert:hover {\n",
              "      background-color: #434B5C;\n",
              "      box-shadow: 0px 1px 3px 1px rgba(0, 0, 0, 0.15);\n",
              "      filter: drop-shadow(0px 1px 2px rgba(0, 0, 0, 0.3));\n",
              "      fill: #FFFFFF;\n",
              "    }\n",
              "  </style>\n",
              "\n",
              "    <script>\n",
              "      const buttonEl =\n",
              "        document.querySelector('#df-91caec7b-e59a-4db4-b0ad-e3fc23e1be77 button.colab-df-convert');\n",
              "      buttonEl.style.display =\n",
              "        google.colab.kernel.accessAllowed ? 'block' : 'none';\n",
              "\n",
              "      async function convertToInteractive(key) {\n",
              "        const element = document.querySelector('#df-91caec7b-e59a-4db4-b0ad-e3fc23e1be77');\n",
              "        const dataTable =\n",
              "          await google.colab.kernel.invokeFunction('convertToInteractive',\n",
              "                                                    [key], {});\n",
              "        if (!dataTable) return;\n",
              "\n",
              "        const docLinkHtml = 'Like what you see? Visit the ' +\n",
              "          '<a target=\"_blank\" href=https://colab.research.google.com/notebooks/data_table.ipynb>data table notebook</a>'\n",
              "          + ' to learn more about interactive tables.';\n",
              "        element.innerHTML = '';\n",
              "        dataTable['output_type'] = 'display_data';\n",
              "        await google.colab.output.renderOutput(dataTable, element);\n",
              "        const docLink = document.createElement('div');\n",
              "        docLink.innerHTML = docLinkHtml;\n",
              "        element.appendChild(docLink);\n",
              "      }\n",
              "    </script>\n",
              "  </div>\n",
              "\n",
              "\n",
              "    <div id=\"df-2b1ba0f0-e95b-4de3-a4b3-650c682646cb\">\n",
              "      <button class=\"colab-df-quickchart\" onclick=\"quickchart('df-2b1ba0f0-e95b-4de3-a4b3-650c682646cb')\"\n",
              "                title=\"Suggest charts\"\n",
              "                style=\"display:none;\">\n",
              "\n",
              "<svg xmlns=\"http://www.w3.org/2000/svg\" height=\"24px\"viewBox=\"0 0 24 24\"\n",
              "     width=\"24px\">\n",
              "    <g>\n",
              "        <path d=\"M19 3H5c-1.1 0-2 .9-2 2v14c0 1.1.9 2 2 2h14c1.1 0 2-.9 2-2V5c0-1.1-.9-2-2-2zM9 17H7v-7h2v7zm4 0h-2V7h2v10zm4 0h-2v-4h2v4z\"/>\n",
              "    </g>\n",
              "</svg>\n",
              "      </button>\n",
              "\n",
              "<style>\n",
              "  .colab-df-quickchart {\n",
              "      --bg-color: #E8F0FE;\n",
              "      --fill-color: #1967D2;\n",
              "      --hover-bg-color: #E2EBFA;\n",
              "      --hover-fill-color: #174EA6;\n",
              "      --disabled-fill-color: #AAA;\n",
              "      --disabled-bg-color: #DDD;\n",
              "  }\n",
              "\n",
              "  [theme=dark] .colab-df-quickchart {\n",
              "      --bg-color: #3B4455;\n",
              "      --fill-color: #D2E3FC;\n",
              "      --hover-bg-color: #434B5C;\n",
              "      --hover-fill-color: #FFFFFF;\n",
              "      --disabled-bg-color: #3B4455;\n",
              "      --disabled-fill-color: #666;\n",
              "  }\n",
              "\n",
              "  .colab-df-quickchart {\n",
              "    background-color: var(--bg-color);\n",
              "    border: none;\n",
              "    border-radius: 50%;\n",
              "    cursor: pointer;\n",
              "    display: none;\n",
              "    fill: var(--fill-color);\n",
              "    height: 32px;\n",
              "    padding: 0;\n",
              "    width: 32px;\n",
              "  }\n",
              "\n",
              "  .colab-df-quickchart:hover {\n",
              "    background-color: var(--hover-bg-color);\n",
              "    box-shadow: 0 1px 2px rgba(60, 64, 67, 0.3), 0 1px 3px 1px rgba(60, 64, 67, 0.15);\n",
              "    fill: var(--button-hover-fill-color);\n",
              "  }\n",
              "\n",
              "  .colab-df-quickchart-complete:disabled,\n",
              "  .colab-df-quickchart-complete:disabled:hover {\n",
              "    background-color: var(--disabled-bg-color);\n",
              "    fill: var(--disabled-fill-color);\n",
              "    box-shadow: none;\n",
              "  }\n",
              "\n",
              "  .colab-df-spinner {\n",
              "    border: 2px solid var(--fill-color);\n",
              "    border-color: transparent;\n",
              "    border-bottom-color: var(--fill-color);\n",
              "    animation:\n",
              "      spin 1s steps(1) infinite;\n",
              "  }\n",
              "\n",
              "  @keyframes spin {\n",
              "    0% {\n",
              "      border-color: transparent;\n",
              "      border-bottom-color: var(--fill-color);\n",
              "      border-left-color: var(--fill-color);\n",
              "    }\n",
              "    20% {\n",
              "      border-color: transparent;\n",
              "      border-left-color: var(--fill-color);\n",
              "      border-top-color: var(--fill-color);\n",
              "    }\n",
              "    30% {\n",
              "      border-color: transparent;\n",
              "      border-left-color: var(--fill-color);\n",
              "      border-top-color: var(--fill-color);\n",
              "      border-right-color: var(--fill-color);\n",
              "    }\n",
              "    40% {\n",
              "      border-color: transparent;\n",
              "      border-right-color: var(--fill-color);\n",
              "      border-top-color: var(--fill-color);\n",
              "    }\n",
              "    60% {\n",
              "      border-color: transparent;\n",
              "      border-right-color: var(--fill-color);\n",
              "    }\n",
              "    80% {\n",
              "      border-color: transparent;\n",
              "      border-right-color: var(--fill-color);\n",
              "      border-bottom-color: var(--fill-color);\n",
              "    }\n",
              "    90% {\n",
              "      border-color: transparent;\n",
              "      border-bottom-color: var(--fill-color);\n",
              "    }\n",
              "  }\n",
              "</style>\n",
              "\n",
              "      <script>\n",
              "        async function quickchart(key) {\n",
              "          const quickchartButtonEl =\n",
              "            document.querySelector('#' + key + ' button');\n",
              "          quickchartButtonEl.disabled = true;  // To prevent multiple clicks.\n",
              "          quickchartButtonEl.classList.add('colab-df-spinner');\n",
              "          try {\n",
              "            const charts = await google.colab.kernel.invokeFunction(\n",
              "                'suggestCharts', [key], {});\n",
              "          } catch (error) {\n",
              "            console.error('Error during call to suggestCharts:', error);\n",
              "          }\n",
              "          quickchartButtonEl.classList.remove('colab-df-spinner');\n",
              "          quickchartButtonEl.classList.add('colab-df-quickchart-complete');\n",
              "        }\n",
              "        (() => {\n",
              "          let quickchartButtonEl =\n",
              "            document.querySelector('#df-2b1ba0f0-e95b-4de3-a4b3-650c682646cb button');\n",
              "          quickchartButtonEl.style.display =\n",
              "            google.colab.kernel.accessAllowed ? 'block' : 'none';\n",
              "        })();\n",
              "      </script>\n",
              "    </div>\n",
              "\n",
              "    </div>\n",
              "  </div>\n"
            ],
            "application/vnd.google.colaboratory.intrinsic+json": {
              "type": "dataframe",
              "variable_name": "df",
              "summary": "{\n  \"name\": \"df\",\n  \"rows\": 5146,\n  \"fields\": [\n    {\n      \"column\": \"Date\",\n      \"properties\": {\n        \"dtype\": \"date\",\n        \"min\": \"2002-12-31 00:00:00\",\n        \"max\": \"2023-06-09 00:00:00\",\n        \"num_unique_values\": 5146,\n        \"samples\": [\n          \"2009-02-18 00:00:00\",\n          \"2008-05-06 00:00:00\",\n          \"2020-05-29 00:00:00\"\n        ],\n        \"semantic_type\": \"\",\n        \"description\": \"\"\n      }\n    },\n    {\n      \"column\": \"Open\",\n      \"properties\": {\n        \"dtype\": \"number\",\n        \"std\": 47.62527848285597,\n        \"min\": 0.2319640070199966,\n        \"max\": 182.6300048828125,\n        \"num_unique_values\": 4865,\n        \"samples\": [\n          21.41107177734375,\n          150.6300048828125,\n          19.37392807006836\n        ],\n        \"semantic_type\": \"\",\n        \"description\": \"\"\n      }\n    },\n    {\n      \"column\": \"High\",\n      \"properties\": {\n        \"dtype\": \"number\",\n        \"std\": 48.2037557036817,\n        \"min\": 0.2355359941720962,\n        \"max\": 184.9499969482422,\n        \"num_unique_values\": 4813,\n        \"samples\": [\n          166.58999633789062,\n          149.2100067138672,\n          2.0174999237060547\n        ],\n        \"semantic_type\": \"\",\n        \"description\": \"\"\n      }\n    },\n    {\n      \"column\": \"Low\",\n      \"properties\": {\n        \"dtype\": \"number\",\n        \"std\": 47.088191567967534,\n        \"min\": 0.2271430045366287,\n        \"max\": 180.6300048828125,\n        \"num_unique_values\": 4847,\n        \"samples\": [\n          45.28499984741211,\n          8.501428604125977,\n          4.697143077850342\n        ],\n        \"semantic_type\": \"\",\n        \"description\": \"\"\n      }\n    },\n    {\n      \"column\": \"Close\",\n      \"properties\": {\n        \"dtype\": \"number\",\n        \"std\": 47.67351241184669,\n        \"min\": 0.2342859953641891,\n        \"max\": 182.00999450683597,\n        \"num_unique_values\": 4872,\n        \"samples\": [\n          5.03249979019165,\n          5.996786117553711,\n          131.39999389648438\n        ],\n        \"semantic_type\": \"\",\n        \"description\": \"\"\n      }\n    },\n    {\n      \"column\": \"Volume\",\n      \"properties\": {\n        \"dtype\": \"number\",\n        \"std\": 391408865,\n        \"min\": 35195900,\n        \"max\": 3372969600,\n        \"num_unique_values\": 5123,\n        \"samples\": [\n          2312217600,\n          318438400,\n          1312690400\n        ],\n        \"semantic_type\": \"\",\n        \"description\": \"\"\n      }\n    },\n    {\n      \"column\": \"Symbol\",\n      \"properties\": {\n        \"dtype\": \"category\",\n        \"num_unique_values\": 1,\n        \"samples\": [\n          \"AAPL\"\n        ],\n        \"semantic_type\": \"\",\n        \"description\": \"\"\n      }\n    },\n    {\n      \"column\": \"YTD Gains\",\n      \"properties\": {\n        \"dtype\": \"number\",\n        \"std\": 186.302532302976,\n        \"min\": -0.084437625606428,\n        \"max\": 710.2738534584685,\n        \"num_unique_values\": 4872,\n        \"samples\": [\n          18.66642286868544\n        ],\n        \"semantic_type\": \"\",\n        \"description\": \"\"\n      }\n    }\n  ]\n}"
            }
          },
          "metadata": {},
          "execution_count": 14
        }
      ]
    },
    {
      "cell_type": "code",
      "source": [
        "#4\n",
        "print(df[(df.index.day == 1) & (df.index.month == 9)])\n"
      ],
      "metadata": {
        "id": "LqEqHDbKbzBk",
        "outputId": "c668dd77-ed56-4f5a-ec66-6dad03b4d15c",
        "colab": {
          "base_uri": "https://localhost:8080/"
        }
      },
      "execution_count": 15,
      "outputs": [
        {
          "output_type": "stream",
          "name": "stdout",
          "text": [
            "                  Open        High         Low       Close     Volume Symbol  \\\n",
            "Date                                                                           \n",
            "2004-09-01    0.612500    0.642679    0.610536    0.640357  515726400   AAPL   \n",
            "2005-09-01    1.678571    1.684643    1.646071    1.652143  356367200   AAPL   \n",
            "2006-09-01    2.445714    2.451786    2.422143    2.442143  408494800   AAPL   \n",
            "2009-09-01    5.999643    6.071429    5.890714    5.903571  469028000   AAPL   \n",
            "2010-09-01    8.838214    8.980714    8.795714    8.940357  697037600   AAPL   \n",
            "2011-09-01   13.779286   13.833571   13.597143   13.608214  343725200   AAPL   \n",
            "2015-09-01   27.537500   27.969999   26.840000   26.930000  307383600   AAPL   \n",
            "2016-09-01   26.535000   26.700001   26.405001   26.682501  106806000   AAPL   \n",
            "2017-09-01   41.200001   41.235001   40.907501   41.012501   66364400   AAPL   \n",
            "2020-09-01  132.759995  134.800003  130.529999  134.179993  151948100   AAPL   \n",
            "2021-09-01  152.830002  154.979996  152.339996  152.509995   80313700   AAPL   \n",
            "2022-09-01  156.639999  158.419998  154.669998  157.960007   74229900   AAPL   \n",
            "\n",
            "             YTD Gains  \n",
            "Date                    \n",
            "2004-09-01    1.502441  \n",
            "2005-09-01    5.456382  \n",
            "2006-09-01    8.543610  \n",
            "2009-09-01   22.070468  \n",
            "2010-09-01   33.937874  \n",
            "2011-09-01   52.179316  \n",
            "2015-09-01  104.239304  \n",
            "2016-09-01  103.272105  \n",
            "2017-09-01  159.272075  \n",
            "2020-09-01  523.359779  \n",
            "2021-09-01  594.991290  \n",
            "2022-09-01  616.289303  \n"
          ]
        }
      ]
    },
    {
      "cell_type": "markdown",
      "metadata": {
        "id": "93ZzDIFl_Kht"
      },
      "source": [
        "# Plot the closing price\n",
        "You will start using PyPlot here, the most wellknown plotting library for Python.\n",
        "\n",
        "Have a look here for a few examples :\n",
        "\n",
        "https://matplotlib.org/stable/tutorials/pyplot.html\n",
        "\n",
        "* Use df.plot(y = ..., use_index = True) to visualize the closing price\n",
        "* Use 'plt' and 'sns' functions to improve your figure\n",
        "    * Define a size for the figure with plt.figure(figsize = (w,h)), unit is inches (typically (12,8))\n",
        "    * Use df.plot(y = ..., use_index = True) to visualize the closing price\n",
        "    * set a title with plt.title\n",
        "    * set labels with plt.xlabel and plt.ylabel\n",
        "    * set a sns style with sns.set_style(...), options are 'white', 'whitegrid', 'dark', 'darkgrid'\n",
        "    * show the plot with plt.show()"
      ]
    },
    {
      "cell_type": "code",
      "execution_count": 17,
      "metadata": {
        "id": "wcJXkSmD_Khu",
        "colab": {
          "base_uri": "https://localhost:8080/",
          "height": 461
        },
        "outputId": "e34bc809-d835-49e5-ac39-ba21effa750d"
      },
      "outputs": [
        {
          "output_type": "display_data",
          "data": {
            "text/plain": [
              "<Figure size 1200x800 with 0 Axes>"
            ]
          },
          "metadata": {}
        },
        {
          "output_type": "display_data",
          "data": {
            "text/plain": [
              "<Figure size 640x480 with 1 Axes>"
            ],
            "image/png": "[encoded data removed]"
          },
          "metadata": {}
        }
      ],
      "source": [
        "import pandas as pd\n",
        "import matplotlib.pyplot as plt\n",
        "import seaborn as sns\n",
        "\n",
        "# 1️⃣ Load your data\n",
        "df = pd.read_csv(filepath)\n",
        "\n",
        "# 2️⃣ Convert the Date column to datetime\n",
        "df[\"Date\"] = pd.to_datetime(df[\"Date\"])\n",
        "\n",
        "# 3️⃣ Set Date as index\n",
        "df.set_index(\"Date\", inplace=True)\n",
        "\n",
        "# 4️⃣ Choose a Seaborn style\n",
        "sns.set_style(\"whitegrid\")  # options: 'white', 'whitegrid', 'dark', 'darkgrid'\n",
        "\n",
        "# 5️⃣ Create a figure and set its size\n",
        "plt.figure(figsize=(12, 8))\n",
        "\n",
        "# 6️⃣ Plot the closing price (replace 'Close' with your actual column name)\n",
        "df.plot(y=\"Close\", use_index=True)\n",
        "\n",
        "# 7️⃣ Add title and labels\n",
        "plt.title(\"Stock Closing Price Over Time\")\n",
        "plt.xlabel(\"Date\")\n",
        "plt.ylabel(\"Closing Price ($)\")\n",
        "\n",
        "# 8️⃣ Show the plot\n",
        "plt.show()\n",
        "\n"
      ]
    },
    {
      "cell_type": "markdown",
      "metadata": {
        "id": "psbmhPh1_Khu"
      },
      "source": [
        "# Daily returns\n",
        "* Let's add a column to our dataset with daily returns\n",
        "    * For that, you can apply the function pct_change() to the 'Close' column\n",
        "    * Check the result using df.head()"
      ]
    },
    {
      "cell_type": "code",
      "execution_count": 19,
      "metadata": {
        "id": "b4HYmCKY_Khv",
        "colab": {
          "base_uri": "https://localhost:8080/"
        },
        "outputId": "e05820b8-5471-4a54-ffde-22514b7724ee"
      },
      "outputs": [
        {
          "output_type": "stream",
          "name": "stdout",
          "text": [
            "                Open      High       Low     Close     Volume Symbol  \\\n",
            "Date                                                                   \n",
            "2002-12-31  0.250000  0.256429  0.249107  0.255893  200726400   AAPL   \n",
            "2003-01-02  0.256429  0.266429  0.256250  0.264286  181428800   AAPL   \n",
            "2003-01-03  0.264286  0.266607  0.260536  0.266071  147453600   AAPL   \n",
            "2003-01-06  0.268393  0.274643  0.265714  0.266071  390532800   AAPL   \n",
            "2003-01-07  0.264107  0.267857  0.258393  0.265179  342344800   AAPL   \n",
            "\n",
            "            YTD Gains  Daily Return  \n",
            "Date                                 \n",
            "2002-12-31   0.000000           NaN  \n",
            "2003-01-02   0.032799      0.032799  \n",
            "2003-01-03   0.039774      0.006754  \n",
            "2003-01-06   0.039774      0.000000  \n",
            "2003-01-07   0.036289     -0.003352  \n"
          ]
        }
      ],
      "source": [
        "import pandas as pd\n",
        "\n",
        "# 1️⃣ Load your dataset\n",
        "df = pd.read_csv(filepath)\n",
        "\n",
        "# 2️⃣ Convert 'Date' column to datetime\n",
        "df[\"Date\"] = pd.to_datetime(df[\"Date\"])\n",
        "\n",
        "# 3️⃣ Set 'Date' as index\n",
        "df.set_index(\"Date\", inplace=True)\n",
        "\n",
        "# 4️⃣ Compute daily returns using pct_change()\n",
        "df[\"Daily Return\"] = df[\"Close\"].pct_change()\n",
        "\n",
        "# 5️⃣ Check the result\n",
        "print(df.head())\n"
      ]
    },
    {
      "cell_type": "markdown",
      "metadata": {
        "id": "s4e64dE1_Khv"
      },
      "source": [
        "# Plotting daily returns\n",
        "\n",
        "You will use Seaborn for that plot. Seaborn is a high-level and quite intuitive library.\n",
        "\n",
        "Check the following link for several plot examples :\n",
        "\n",
        "https://seaborn.pydata.org/tutorial/introduction.html\n",
        "\n",
        "* Plot the histogram of daily returns in order to check the distribution\n",
        "    * This can be done using sns.histplot(..., bins=..., kde=[True/False]). You can vary the bins number and try with or without kde.\n",
        "    * Don't forget that the first value is a NaN (not a number), you can discard it using df['Your_column'].dropna()\n",
        "    * You can remove axis if it looks more beautiful to you using sns.despine(left = True). This will remove the top, right (default) and left axis."
      ]
    },
    {
      "cell_type": "code",
      "execution_count": 20,
      "metadata": {
        "id": "15H1HCue_Khw",
        "colab": {
          "base_uri": "https://localhost:8080/",
          "height": 564
        },
        "outputId": "a9ea7571-ab57-4b68-96a5-95d78dd33364"
      },
      "outputs": [
        {
          "output_type": "display_data",
          "data": {
            "text/plain": [
              "<Figure size 1000x600 with 1 Axes>"
            ],
            "image/png": "[encoded data removed]"
          },
          "metadata": {}
        }
      ],
      "source": [
        "import pandas as pd\n",
        "import seaborn as sns\n",
        "import matplotlib.pyplot as plt\n",
        "\n",
        "# 1️⃣ Load and prepare your data\n",
        "df = pd.read_csv(filepath)\n",
        "df[\"Date\"] = pd.to_datetime(df[\"Date\"])\n",
        "df.set_index(\"Date\", inplace=True)\n",
        "\n",
        "# 2️⃣ Calculate daily returns\n",
        "df[\"Daily Return\"] = df[\"Close\"].pct_change()\n",
        "\n",
        "# 3️⃣ Set a Seaborn style\n",
        "sns.set_style(\"whitegrid\")  # options: 'white', 'dark', 'whitegrid', 'darkgrid'\n",
        "\n",
        "# 4️⃣ Create a figure\n",
        "plt.figure(figsize=(10, 6))\n",
        "\n",
        "# 5️⃣ Plot the histogram of daily returns (remove NaN values)\n",
        "sns.histplot(df[\"Daily Return\"].dropna(), bins=50, kde=True)\n",
        "\n",
        "# 6️⃣ Add title and labels\n",
        "plt.title(\"Distribution of Daily Returns\")\n",
        "plt.xlabel(\"Daily Return\")\n",
        "plt.ylabel(\"Frequency\")\n",
        "\n",
        "# 7️⃣ Optional: clean up the look by removing some axes\n",
        "sns.despine(left=True)\n",
        "\n",
        "# 8️⃣ Show the plot\n",
        "plt.show()\n"
      ]
    },
    {
      "cell_type": "markdown",
      "metadata": {
        "id": "Ggp0VQ7O_Khw"
      },
      "source": [
        "# Candlestick charts\n",
        "Matplotlib also contains a library specialized for Finance, called mplfinance\n",
        "\n",
        "Have a look here for a list of tutorials :\n",
        "\n",
        "https://github.com/matplotlib/mplfinance#tutorials\n",
        "\n",
        "* A bit of preprocessing is needed on the dataframe\n",
        "    * First, filter the dataframe to only keep data from 2022 or after. In other words, you want all the rows for which df.index.year>2021. Store that in a new dataframe.\n",
        "    * Then, compute a monthly mean by applying the functions resample(...) and mean() to your new dataframe. Again, store that in a new dataframe.\n",
        "* Visualize the candlestick plot with mplfinance\n",
        "    * Import the correct library (mplfinance, usually loaded as mpf)\n",
        "    * Plot using mpf.plot(..., type = 'candle', style = '...', volume = [True|False])\n",
        "    * Try different styles, different options and see the impact on the figure"
      ]
    },
    {
      "cell_type": "code",
      "execution_count": 21,
      "metadata": {
        "id": "aGrfjoiE_Khx",
        "colab": {
          "base_uri": "https://localhost:8080/"
        },
        "outputId": "2331761a-9a39-4e50-b1f0-cf98b6fa9599"
      },
      "outputs": [
        {
          "output_type": "stream",
          "name": "stdout",
          "text": [
            "Collecting mplfinance\n",
            "  Downloading mplfinance-0.12.10b0-py3-none-any.whl.metadata (19 kB)\n",
            "Requirement already satisfied: matplotlib in /usr/local/lib/python3.12/dist-packages (from mplfinance) (3.10.0)\n",
            "Requirement already satisfied: pandas in /usr/local/lib/python3.12/dist-packages (from mplfinance) (2.2.2)\n",
            "Requirement already satisfied: contourpy>=1.0.1 in /usr/local/lib/python3.12/dist-packages (from matplotlib->mplfinance) (1.3.3)\n",
            "Requirement already satisfied: cycler>=0.10 in /usr/local/lib/python3.12/dist-packages (from matplotlib->mplfinance) (0.12.1)\n",
            "Requirement already satisfied: fonttools>=4.22.0 in /usr/local/lib/python3.12/dist-packages (from matplotlib->mplfinance) (4.60.1)\n",
            "Requirement already satisfied: kiwisolver>=1.3.1 in /usr/local/lib/python3.12/dist-packages (from matplotlib->mplfinance) (1.4.9)\n",
            "Requirement already satisfied: numpy>=1.23 in /usr/local/lib/python3.12/dist-packages (from matplotlib->mplfinance) (2.0.2)\n",
            "Requirement already satisfied: packaging>=20.0 in /usr/local/lib/python3.12/dist-packages (from matplotlib->mplfinance) (25.0)\n",
            "Requirement already satisfied: pillow>=8 in /usr/local/lib/python3.12/dist-packages (from matplotlib->mplfinance) (11.3.0)\n",
            "Requirement already satisfied: pyparsing>=2.3.1 in /usr/local/lib/python3.12/dist-packages (from matplotlib->mplfinance) (3.2.5)\n",
            "Requirement already satisfied: python-dateutil>=2.7 in /usr/local/lib/python3.12/dist-packages (from matplotlib->mplfinance) (2.9.0.post0)\n",
            "Requirement already satisfied: pytz>=2020.1 in /usr/local/lib/python3.12/dist-packages (from pandas->mplfinance) (2025.2)\n",
            "Requirement already satisfied: tzdata>=2022.7 in /usr/local/lib/python3.12/dist-packages (from pandas->mplfinance) (2025.2)\n",
            "Requirement already satisfied: six>=1.5 in /usr/local/lib/python3.12/dist-packages (from python-dateutil>=2.7->matplotlib->mplfinance) (1.17.0)\n",
            "Downloading mplfinance-0.12.10b0-py3-none-any.whl (75 kB)\n",
            "\u001b[2K   \u001b[90m━━━━━━━━━━━━━━━━━━━━━━━━━━━━━━━━━━━━━━━━\u001b[0m \u001b[32m75.0/75.0 kB\u001b[0m \u001b[31m3.0 MB/s\u001b[0m eta \u001b[36m0:00:00\u001b[0m\n",
            "\u001b[?25hInstalling collected packages: mplfinance\n",
            "Successfully installed mplfinance-0.12.10b0\n"
          ]
        }
      ],
      "source": [
        "pip install mplfinance\n"
      ]
    },
    {
      "cell_type": "code",
      "source": [
        "# 📊 Candlestick Chart Example with mplfinance\n",
        "\n",
        "import pandas as pd\n",
        "import mplfinance as mpf\n",
        "\n",
        "# 1️⃣ Load the CSV file (make sure it has columns: Date, Open, High, Low, Close, Volume)\n",
        "df = pd.read_csv(filepath)\n",
        "\n",
        "# 2️⃣ Convert 'Date' column to datetime and set it as index\n",
        "df[\"Date\"] = pd.to_datetime(df[\"Date\"])\n",
        "df.set_index(\"Date\", inplace=True)\n",
        "\n",
        "# 3️⃣ Filter data to keep only from 2022 onwards\n",
        "df_2022 = df[df.index.year > 2021].copy()\n",
        "\n",
        "# 4️⃣ Compute monthly averages (optional summary)\n",
        "monthly_mean = df_2022.resample(\"M\").mean(numeric_only=True)\n",
        "\n",
        "# 5️⃣ Compute monthly OHLC data for candlestick chart\n",
        "ohlc_monthly = df_2022.resample(\"M\").agg({\n",
        "    \"Open\": \"first\",\n",
        "    \"High\": \"max\",\n",
        "    \"Low\": \"min\",\n",
        "    \"Close\": \"last\",\n",
        "    \"Volume\": \"sum\",\n",
        "})\n",
        "\n",
        "# 6️⃣ Plot candlestick chart (monthly)\n",
        "mpf.plot(\n",
        "    ohlc_monthly,\n",
        "    type=\"candle\",         # candlestick chart\n",
        "    style=\"yahoo\",         # try also 'charles', 'blueskies', 'nightclouds'\n",
        "    volume=True,           # show volume below the chart\n",
        "    title=\"Monthly Candlestick Chart (since 2022)\",\n",
        "    ylabel=\"Price\",\n",
        "    ylabel_lower=\"Volume\",\n",
        "    mav=(20, 50)           # moving averages (20 and 50 periods)\n",
        ")\n",
        "\n",
        "# ✅ You can change \"M\" above to \"W\" for weekly or \"D\" for daily candles\n"
      ],
      "metadata": {
        "id": "iFuNbv67eTR7",
        "outputId": "904230b5-40ed-4ba8-e991-989d0d1eddd1",
        "colab": {
          "base_uri": "https://localhost:8080/",
          "height": 658
        }
      },
      "execution_count": 22,
      "outputs": [
        {
          "output_type": "stream",
          "name": "stderr",
          "text": [
            "/tmp/ipython-input-3829601130.py:17: FutureWarning: 'M' is deprecated and will be removed in a future version, please use 'ME' instead.\n",
            "  monthly_mean = df_2022.resample(\"M\").mean(numeric_only=True)\n",
            "/tmp/ipython-input-3829601130.py:20: FutureWarning: 'M' is deprecated and will be removed in a future version, please use 'ME' instead.\n",
            "  ohlc_monthly = df_2022.resample(\"M\").agg({\n"
          ]
        },
        {
          "output_type": "display_data",
          "data": {
            "text/plain": [
              "<Figure size 800x575 with 4 Axes>"
            ],
            "image/png": "[encoded data removed]"
          },
          "metadata": {}
        }
      ]
    }
  ],
  "metadata": {
    "colab": {
      "provenance": [],
      "include_colab_link": true
    },
    "kernelspec": {
      "display_name": "Python 3",
      "language": "python",
      "name": "python3"
    },
    "language_info": {
      "codemirror_mode": {
        "name": "ipython",
        "version": 3
      },
      "file_extension": ".py",
      "mimetype": "text/x-python",
      "name": "python",
      "nbconvert_exporter": "python",
      "pygments_lexer": "ipython3",
      "version": "3.8.10"
    }
  },
  "nbformat": 4,
  "nbformat_minor": 0
}