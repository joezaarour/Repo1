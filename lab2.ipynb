{
  "cells": [
    {
      "cell_type": "markdown",
      "metadata": {
        "id": "view-in-github",
        "colab_type": "text"
      },
      "source": [
        "<a href=\"https://colab.research.google.com/github/joezaarour/Repo1/blob/main/lab2.ipynb\" target=\"_parent\"><img src=\"https://colab.research.google.com/assets/colab-badge.svg\" alt=\"Open In Colab\"/></a>"
      ]
    },
    {
      "cell_type": "markdown",
      "metadata": {
        "id": "yuXO7Jdb_Khi"
      },
      "source": [
        "# Import libraries"
      ]
    },
    {
      "cell_type": "code",
      "source": [
        "# install mplfinance\n",
        "!pip install mplfinance"
      ],
      "metadata": {
        "id": "uByMVGy84Hf9"
      },
      "execution_count": null,
      "outputs": []
    },
    {
      "cell_type": "code",
      "execution_count": null,
      "metadata": {
        "id": "M0MLCX6Z_Khl"
      },
      "outputs": [],
      "source": [
        "import pandas as pd\n",
        "import matplotlib.pyplot as plt\n",
        "import seaborn as sns\n",
        "import mplfinance as mpl"
      ]
    },
    {
      "cell_type": "markdown",
      "metadata": {
        "id": "A5km2G3G_Khn"
      },
      "source": [
        "# Check files on disk\n",
        "* Go to https://www.kaggle.com/datasets/adhoppin/financial-data?resource=download and download the data.\n",
        "* Extract the data in your folder, or updload it on Google Colab.\n",
        "    * You can directly upload a 'zip' file on Google Drive.\n",
        "    * Then, you'll have to mount google drive, find the correct folder and unzip the file\n",
        "    * You can achieve this by  adapting the following code"
      ]
    },
    {
      "cell_type": "code",
      "execution_count": null,
      "metadata": {
        "id": "Z5rOSr0Z_Khp"
      },
      "outputs": [],
      "source": [
        "# Mount your google drive\n",
        "from google.colab import drive\n",
        "drive.mount('/content/drive')\n",
        "!ls\n"
      ]
    },
    {
      "cell_type": "code",
      "source": [
        "!unzip drive/MyDrive/archive.zip"
      ],
      "metadata": {
        "id": "Uq2N2aJbXACM"
      },
      "execution_count": null,
      "outputs": []
    },
    {
      "cell_type": "code",
      "source": [
        "import os\n",
        "dirpath='./Financial Data/stocks'\n",
        "for dirname, _, filenames in os.walk(dirpath): # for each directory in current folder (./)+path\n",
        "    for filename in filenames: # for each file in a directory\n",
        "        print(os.path.join(dirname, filename)) # print the directory/filename"
      ],
      "metadata": {
        "id": "69r61xKb44_r"
      },
      "execution_count": null,
      "outputs": []
    },
    {
      "cell_type": "markdown",
      "metadata": {
        "id": "UNu7vJWR_Khq"
      },
      "source": [
        "# Open a file as a pandas dataframe\n",
        "\n",
        "Pandas is very well documented, check here for a complete User Guide :\n",
        "\n",
        "https://pandas.pydata.org/docs/user_guide/index.html\n",
        "\n",
        "* Choose one stock file and open it as a DataFrame using the method pd.read_csv(filepath)"
      ]
    },
    {
      "cell_type": "code",
      "execution_count": null,
      "metadata": {
        "id": "XBqOzuwK_Khr"
      },
      "outputs": [],
      "source": []
    },
    {
      "cell_type": "markdown",
      "metadata": {
        "id": "qrKacpU1_Khr"
      },
      "source": [
        "# Set up the Dataframe\n",
        "\n",
        "* convert values in the 'Date' column using pd.to_datetime(dfcolumn)\n",
        "* set the date as index using df.set_index(column, inplace = True)\n",
        "* check the first few lines of the dataframe using head()\n",
        "* what happens if you type 'print(df[(df.index.day==1) & (df.index.month==9)]). Why ?"
      ]
    },
    {
      "cell_type": "code",
      "source": [],
      "metadata": {
        "id": "qYOW9q4uwi4A"
      },
      "execution_count": null,
      "outputs": []
    },
    {
      "cell_type": "code",
      "source": [],
      "metadata": {
        "id": "1ynH2ZtqeLjJ"
      },
      "execution_count": null,
      "outputs": []
    },
    {
      "cell_type": "code",
      "source": [],
      "metadata": {
        "id": "BZ2XkUQOepdj"
      },
      "execution_count": null,
      "outputs": []
    },
    {
      "cell_type": "markdown",
      "metadata": {
        "id": "93ZzDIFl_Kht"
      },
      "source": [
        "# Plot the closing price\n",
        "You will start using PyPlot here, the most wellknown plotting library for Python.\n",
        "\n",
        "Have a look here for a few examples :\n",
        "\n",
        "https://matplotlib.org/stable/tutorials/pyplot.html\n",
        "\n",
        "* Use df.plot(y = ..., use_index = True) to visualize the closing price\n",
        "* Use 'plt' and 'sns' functions to improve your figure\n",
        "    * Define a size for the figure with plt.figure(figsize = (w,h)), unit is inches (typically (12,8))\n",
        "    * Use df.plot(y = ..., use_index = True) to visualize the closing price\n",
        "    * set a title with plt.title\n",
        "    * set labels with plt.xlabel and plt.ylabel\n",
        "    * set a sns style with sns.set_style(...), options are 'white', 'whitegrid', 'dark', 'darkgrid'\n",
        "    * show the plot with plt.show()"
      ]
    },
    {
      "cell_type": "code",
      "execution_count": null,
      "metadata": {
        "id": "wcJXkSmD_Khu"
      },
      "outputs": [],
      "source": [
        "\n"
      ]
    },
    {
      "cell_type": "markdown",
      "metadata": {
        "id": "psbmhPh1_Khu"
      },
      "source": [
        "# Daily returns\n",
        "* Let's add a column to our dataset with daily returns\n",
        "    * For that, you can apply the function pct_change() to the 'Close' column\n",
        "    * Check the result using df.head()"
      ]
    },
    {
      "cell_type": "code",
      "execution_count": null,
      "metadata": {
        "id": "b4HYmCKY_Khv"
      },
      "outputs": [],
      "source": []
    },
    {
      "cell_type": "markdown",
      "metadata": {
        "id": "s4e64dE1_Khv"
      },
      "source": [
        "# Plotting daily returns\n",
        "\n",
        "You will use Seaborn for that plot. Seaborn is a high-level and quite intuitive library.\n",
        "\n",
        "Check the following link for several plot examples :\n",
        "\n",
        "https://seaborn.pydata.org/tutorial/introduction.html\n",
        "\n",
        "* Plot the histogram of daily returns in order to check the distribution\n",
        "    * This can be done using sns.histplot(..., bins=..., kde=[True/False]). You can vary the bins number and try with or without kde.\n",
        "    * Don't forget that the first value is a NaN (not a number), you can discard it using df['Your_column'].dropna()\n",
        "    * You can remove axis if it looks more beautiful to you using sns.despine(left = True). This will remove the top, right (default) and left axis."
      ]
    },
    {
      "cell_type": "code",
      "execution_count": null,
      "metadata": {
        "id": "15H1HCue_Khw"
      },
      "outputs": [],
      "source": []
    },
    {
      "cell_type": "markdown",
      "metadata": {
        "id": "Ggp0VQ7O_Khw"
      },
      "source": [
        "# Candlestick charts\n",
        "Matplotlib also contains a library specialized for Finance, called mplfinance\n",
        "\n",
        "Have a look here for a list of tutorials :\n",
        "\n",
        "https://github.com/matplotlib/mplfinance#tutorials\n",
        "\n",
        "* A bit of preprocessing is needed on the dataframe\n",
        "    * First, filter the dataframe to only keep data from 2022 or after. In other words, you want all the rows for which df.index.year>2021. Store that in a new dataframe.\n",
        "    * Then, compute a monthly mean by applying the functions resample(...) and mean() to your new dataframe. Again, store that in a new dataframe.\n",
        "* Visualize the candlestick plot with mplfinance\n",
        "    * Import the correct library (mplfinance, usually loaded as mpf)\n",
        "    * Plot using mpf.plot(..., type = 'candle', style = '...', volume = [True|False])\n",
        "    * Try different styles, different options and see the impact on the figure"
      ]
    },
    {
      "cell_type": "code",
      "execution_count": null,
      "metadata": {
        "id": "aGrfjoiE_Khx"
      },
      "outputs": [],
      "source": []
    }
  ],
  "metadata": {
    "colab": {
      "provenance": [],
      "include_colab_link": true
    },
    "kernelspec": {
      "display_name": "Python 3",
      "language": "python",
      "name": "python3"
    },
    "language_info": {
      "codemirror_mode": {
        "name": "ipython",
        "version": 3
      },
      "file_extension": ".py",
      "mimetype": "text/x-python",
      "name": "python",
      "nbconvert_exporter": "python",
      "pygments_lexer": "ipython3",
      "version": "3.8.10"
    }
  },
  "nbformat": 4,
  "nbformat_minor": 0
}